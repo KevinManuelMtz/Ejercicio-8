{
  "nbformat": 4,
  "nbformat_minor": 0,
  "metadata": {
    "colab": {
      "name": "Ejercicio 6.ipynb",
      "provenance": []
    },
    "kernelspec": {
      "name": "python3",
      "display_name": "Python 3"
    }
  },
  "cells": [
    {
      "cell_type": "code",
      "metadata": {
        "id": "tG2GpMU61I5i",
        "outputId": "af21b880-52db-4295-f43c-2bab08d967c3",
        "colab": {
          "base_uri": "https://localhost:8080/"
        }
      },
      "source": [
        "#Ejericio 8\n",
        "t = int(input(\"Introduzca un numero entero: \"))\n",
        "p = '*'\n",
        "\n",
        "for i in range (t):\n",
        "  print(p * (i + 1))"
      ],
      "execution_count": 14,
      "outputs": [
        {
          "output_type": "stream",
          "text": [
            "Introduzca un numero entero: 8\n",
            "*\n",
            "**\n",
            "***\n",
            "****\n",
            "*****\n",
            "******\n",
            "*******\n",
            "********\n"
          ],
          "name": "stdout"
        }
      ]
    }
  ]
}